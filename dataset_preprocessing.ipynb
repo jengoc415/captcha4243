{
 "cells": [
  {
   "cell_type": "code",
   "execution_count": 1,
   "id": "7ae25c8e-fcae-46fe-986a-43a66d05288a",
   "metadata": {},
   "outputs": [],
   "source": [
    "import os\n",
    "import matplotlib.pyplot as plt\n",
    "import cv2\n",
    "import re\n",
    "import numpy as np\n",
    "import random\n",
    "from skimage import color\n",
    "from skimage.color import rgb2lab, deltaE_ciede2000\n",
    "import colorsys"
   ]
  },
  {
   "cell_type": "code",
   "execution_count": 2,
   "id": "289a0509-eca1-4f48-b262-74db07248653",
   "metadata": {},
   "outputs": [],
   "source": [
    "# Folder setup\n",
    "train_dir = 'train'\n",
    "test_dir = 'test'\n",
    "\n",
    "# Natural sort helper\n",
    "def natural_key(s):\n",
    "    return [int(text) if text.isdigit() else text.lower() for text in re.split('([0-9]+)', s)]\n",
    "\n",
    "# Image loader\n",
    "def load_images_from_folder(folder, limit=None):\n",
    "    images = []\n",
    "    filenames = []\n",
    "    count = 0\n",
    "    for filename in sorted(os.listdir(folder), key=natural_key):\n",
    "        if filename.lower().endswith(('.png', '.jpg', '.jpeg', '.bmp')):\n",
    "            img_path = os.path.join(folder, filename)\n",
    "            img = cv2.imread(img_path, cv2.IMREAD_COLOR)\n",
    "            if img is not None:\n",
    "                images.append(img)\n",
    "                filenames.append(filename)\n",
    "                count += 1\n",
    "                if limit and count >= limit:\n",
    "                    break\n",
    "    return images, filenames"
   ]
  },
  {
   "cell_type": "code",
   "execution_count": 3,
   "id": "5c1f7431-d156-44b7-bb1d-0a714b573179",
   "metadata": {},
   "outputs": [],
   "source": [
    "# Hough line removal\n",
    "def remove_lines_with_hough_enhanced(gray_img, binary_img):\n",
    "    equalized = cv2.equalizeHist(gray_img)\n",
    "    kernel = cv2.getStructuringElement(cv2.MORPH_RECT, (3, 1))\n",
    "    enhanced = cv2.morphologyEx(equalized, cv2.MORPH_CLOSE, kernel)\n",
    "    edges = cv2.Canny(enhanced, 30, 120)\n",
    "\n",
    "    lines = cv2.HoughLinesP(edges, 1, np.pi / 180, threshold=25, minLineLength=20, maxLineGap=10)\n",
    "    cleaned = binary_img.copy()\n",
    "\n",
    "    if lines is not None:\n",
    "        for line in lines:\n",
    "            x1, y1, x2, y2 = line[0]\n",
    "            angle = np.degrees(np.arctan2((y2 - y1), (x2 - x1)))\n",
    "            if 10 < abs(angle) < 170:\n",
    "                cv2.line(cleaned, (x1, y1), (x2, y2), 255, 2)\n",
    "    return cleaned\n",
    "\n",
    "#  Morphological scratch line removal \n",
    "def remove_scratch_lines_morphological(binary_img):\n",
    "    h_kernel = np.ones((1, 3), np.uint8)\n",
    "    v_kernel = np.ones((3, 1), np.uint8)\n",
    "    s_kernel = np.ones((2, 2), np.uint8)\n",
    "    \n",
    "    h_opening = cv2.morphologyEx(binary_img, cv2.MORPH_OPEN, h_kernel)\n",
    "    v_opening = cv2.morphologyEx(h_opening, cv2.MORPH_OPEN, v_kernel)\n",
    "    cleaned = cv2.morphologyEx(v_opening, cv2.MORPH_OPEN, s_kernel)\n",
    "\n",
    "    closing_kernel = np.ones((2, 2), np.uint8)\n",
    "    cleaned = cv2.morphologyEx(cleaned, cv2.MORPH_CLOSE, closing_kernel)\n",
    "    \n",
    "    return cleaned\n",
    "\n",
    "# Combined approach\n",
    "def remove_scratch_lines_combined(gray_img, binary_img):\n",
    "    hough_cleaned = remove_lines_with_hough_enhanced(gray_img, binary_img)\n",
    "    morph_cleaned = remove_scratch_lines_morphological(hough_cleaned)\n",
    "    return morph_cleaned"
   ]
  },
  {
   "cell_type": "code",
   "execution_count": 4,
   "id": "a437bd2c-c1ea-4b69-ab46-9c93d843cd2d",
   "metadata": {},
   "outputs": [],
   "source": [
    "def delta_e(rgb1, rgb2):\n",
    "    rgb1 = np.array([[rgb1]]) / 255\n",
    "    rgb2 = np.array([[rgb2]]) / 255\n",
    "    lab1 = color.rgb2lab(rgb1)\n",
    "    lab2 = color.rgb2lab(rgb2)\n",
    "    return deltaE_ciede2000(lab1, lab2)\n",
    "\n",
    "\n",
    "def rgb_to_hue(rgb):\n",
    "    r, g, b = [x / 255.0 for x in rgb]\n",
    "    h, s, v = colorsys.rgb_to_hsv(r, g, b)\n",
    "    return h * 360  # hue in degrees\n",
    "\n",
    "\n",
    "def hue_difference(rgb1, rgb2):\n",
    "    h1 = rgb_to_hue(rgb1)\n",
    "    h2 = rgb_to_hue(rgb2)\n",
    "    diff = abs(h1 - h2)\n",
    "    return min(diff, 360 - diff)  # hue is circular"
   ]
  },
  {
   "cell_type": "code",
   "execution_count": 5,
   "id": "25ef1b35-eaab-40c8-ad46-b9b24b3419f0",
   "metadata": {},
   "outputs": [],
   "source": [
    "def cluster_similar_colors(colors, max_color_diff):\n",
    "    # Convert to uint8 to ensure unsigned integer operations\n",
    "    colors_u8 = colors.astype(np.uint8)\n",
    "    \n",
    "    # If only one color, return it with mapping\n",
    "    if len(colors_u8) == 0:\n",
    "        return None, None, False\n",
    "    elif len(colors_u8) == 1:\n",
    "        single_color = tuple(colors_u8[0])\n",
    "        return colors_u8, {single_color: single_color}, True\n",
    "    \n",
    "    clusters = [colors_u8[0:1]]\n",
    "    color_map = {tuple(colors_u8[0]): tuple(colors_u8[0])}\n",
    "    \n",
    "    for color in colors_u8[1:]:\n",
    "        color_tuple = tuple(color)\n",
    "        is_similar_to_existing = False\n",
    "        \n",
    "        for cluster in clusters:\n",
    "\n",
    "            ref_color = cluster[0]\n",
    "\n",
    "            if hue_difference(ref_color, color) <= max_color_diff:\n",
    "                rep_color = tuple(cluster[0])\n",
    "                color_map[color_tuple] = rep_color\n",
    "                is_similar_to_existing = True\n",
    "                break\n",
    "        \n",
    "        if not is_similar_to_existing:\n",
    "            clusters.append(color[np.newaxis, :])\n",
    "            rep_color = tuple(color)\n",
    "            color_map[color_tuple] = rep_color\n",
    "    \n",
    "    # Return the representative colors and the mapping\n",
    "    representative_colors = np.array([cluster[0] for cluster in clusters])\n",
    "    return representative_colors, color_map, True\n"
   ]
  },
  {
   "cell_type": "code",
   "execution_count": 6,
   "id": "d6f9b3b2-0c45-4daf-ab16-65357cd87208",
   "metadata": {},
   "outputs": [],
   "source": [
    "def separate_overlapping_characters(img, max_color_diff):\n",
    "    # Flatten the image and count color frequencies\n",
    "    pixels = img.reshape(-1, 3)\n",
    "    unique_colors, _ = np.unique(pixels, axis=0, return_counts=True)\n",
    "    \n",
    "    ######### THIS PART NEEDS TO BE EDITED FOR BLACK #########\n",
    "    # The issue is that hue is a very bad way to see if a color is similar to black or not\n",
    "    # An idea is to first filter out the white and black using delta E but this is very slow\n",
    "    \n",
    "    white = np.array([255, 255, 255])\n",
    "    # black = np.array([0, 0, 0])\n",
    "    # unique_colors = np.vstack([white, black, unique_colors])\n",
    "    unique_colors = unique_colors[~np.all(unique_colors == white, axis=1)]\n",
    "    \n",
    "    # Cluster colors and get color map\n",
    "    representative_colors, color_map, have_color = cluster_similar_colors(unique_colors, max_color_diff)\n",
    "    \n",
    "    if not have_color:\n",
    "        return []\n",
    "    \n",
    "    filtered_colors = []\n",
    "    \n",
    "    for color_rgb in representative_colors:\n",
    "        d1 = delta_e(white, color_rgb)\n",
    "        # d2 = delta_e(black, color_rgb)\n",
    "        # if d1 > 10 or d2 > 10:\n",
    "        if d1 > 10 :  # ΔE threshold to exclude near-white and near-black colors\n",
    "            filtered_colors.append(color_rgb)\n",
    "    representative_colors = np.array(filtered_colors)\n",
    "    \n",
    "    ######### THIS PART NEEDS TO BE EDITED FOR BLACK #########\n",
    "\n",
    "    \n",
    "    # Step 1: Replace every pixel in the image using the color_map\n",
    "    img_mapped = img.copy().reshape(-1, 3)\n",
    "    for i, pix in enumerate(img_mapped):\n",
    "        pix_tuple = tuple(pix)\n",
    "        if pix_tuple in color_map:\n",
    "            img_mapped[i] = color_map[pix_tuple]\n",
    "    img_mapped = img_mapped.reshape(img.shape)\n",
    "\n",
    "    # Step 2: Create exact masks for each representative color\n",
    "    masks = []\n",
    "    for color in representative_colors:\n",
    "        # Create a boolean mask by comparing pixels directly\n",
    "        mask = cv2.inRange(img_mapped, np.array(color), np.array(color))\n",
    "        masks.append(mask)\n",
    "    \n",
    "    # Sort masks by leftmost pixel\n",
    "    def get_leftmost_pixel(mask):\n",
    "        # Find non-zero coordinates\n",
    "        coords = np.column_stack(np.where(mask > 0))\n",
    "        return coords[:, 1].min() if coords.size > 0 else float('inf')\n",
    "    \n",
    "    sorted_masks = sorted(masks, key=get_leftmost_pixel)\n",
    "    \n",
    "    # Extract individual character images with white background\n",
    "    character_images = []\n",
    "    for mask in sorted_masks:\n",
    "        # Create a white background image\n",
    "        white_background = np.ones_like(img) * 255\n",
    "        \n",
    "        # Copy the character onto the white background using the mask\n",
    "        character = white_background.copy()\n",
    "        character[mask > 0] = img[mask > 0]\n",
    "        \n",
    "        character_images.append(character)\n",
    "    \n",
    "    return character_images"
   ]
  },
  {
   "cell_type": "code",
   "execution_count": 7,
   "id": "b56d730d-8598-4437-8705-61e80b3d55ed",
   "metadata": {},
   "outputs": [],
   "source": [
    "def get_letters(binary, binary_blur, color_img, color, split_using_color, min_area, min_fill_ratio, max_color_diff):\n",
    "    binary_blur_flipped = cv2.bitwise_not(binary_blur)\n",
    "\n",
    "    # Step 4: Find contours (external only)\n",
    "    contours, _ = cv2.findContours(binary_blur_flipped, cv2.RETR_EXTERNAL, cv2.CHAIN_APPROX_SIMPLE)\n",
    "\n",
    "    # Step 5: Extract and filter bounding boxes\n",
    "    boxes = []\n",
    "    for cnt in contours:\n",
    "        x, y, w, h = cv2.boundingRect(cnt)\n",
    "        if w * h >= min_area:\n",
    "            boxes.append((x, y, w, h))\n",
    "\n",
    "    # Step 6: Sort boxes left to right\n",
    "    boxes = sorted(boxes, key=lambda b: b[0])\n",
    "    \n",
    "\n",
    "    # Step 7: Crop characters\n",
    "    letters = []\n",
    "    for (x, y, w, h) in boxes:\n",
    "        if split_using_color:\n",
    "            char_img = color_img[y:y+h, x:x+w]\n",
    "            separated = separate_overlapping_characters(char_img, max_color_diff)\n",
    "            \n",
    "            # print(len(separated))\n",
    "            \n",
    "            for separated_img in separated:\n",
    "                gray = cv2.cvtColor(separated_img, cv2.COLOR_BGR2GRAY)\n",
    "                binary = cv2.adaptiveThreshold(\n",
    "                        gray, 255,\n",
    "                        cv2.ADAPTIVE_THRESH_MEAN_C,\n",
    "                        cv2.THRESH_BINARY,\n",
    "                        blockSize=15,\n",
    "                        C=3\n",
    "                    )\n",
    "                \n",
    "                area = binary.shape[0] * binary.shape[1]\n",
    "                filled = cv2.countNonZero(cv2.bitwise_not(binary))\n",
    "                fill_ratio = filled / area\n",
    "                \n",
    "                if area >= min_area and fill_ratio >= min_fill_ratio:\n",
    "                    x, y, w, h = cv2.boundingRect(cv2.findNonZero(cv2.bitwise_not(binary)))\n",
    "                    if color:\n",
    "                        letters.append(separated_img[y:y+h, x:x+w])\n",
    "                    else:\n",
    "                        letters.append(binary[y:y+h, x:x+w])\n",
    "            \n",
    "        else:\n",
    "            if color:\n",
    "                letters.append(color_img[y:y+h, x:x+w])\n",
    "            else:\n",
    "                letters.append(binary[y:y+h, x:x+w])\n",
    "\n",
    "    return letters"
   ]
  },
  {
   "cell_type": "code",
   "execution_count": 8,
   "id": "1400cade-cee1-4091-93fa-634cb9c190e7",
   "metadata": {},
   "outputs": [],
   "source": [
    "# Preprocessing pipeline\n",
    "def preprocess_image(img, resize_to=None, color=False, split_using_color=False, min_area=50, min_fill_ratio=0, max_color_diff=50):\n",
    "    gray = cv2.cvtColor(img, cv2.COLOR_BGR2GRAY)\n",
    "\n",
    "    binary = cv2.adaptiveThreshold(\n",
    "        gray, 255,\n",
    "        cv2.ADAPTIVE_THRESH_MEAN_C,\n",
    "        cv2.THRESH_BINARY,\n",
    "        blockSize=15,\n",
    "        C=3\n",
    "    )\n",
    "\n",
    "    cleaned = remove_scratch_lines_combined(gray, binary)\n",
    "    \n",
    "    mask = cv2.bitwise_not(cleaned)\n",
    "    white_background = np.ones_like(img) * 255\n",
    "    color_cleaned = white_background.copy()\n",
    "    color_cleaned[mask > 0] = img[mask > 0]\n",
    "    \n",
    "    letters = get_letters(binary, binary, color_cleaned, color=color, split_using_color=split_using_color, min_area=min_area, min_fill_ratio=min_fill_ratio, max_color_diff=max_color_diff)\n",
    "    \n",
    "    if resize_to:\n",
    "        results = []\n",
    "        for letter in letters:\n",
    "            letter = cv2.resize(letter, resize_to)\n",
    "            results.append(letter)\n",
    "    \n",
    "        return results\n",
    "    else:\n",
    "        return letters"
   ]
  },
  {
   "cell_type": "markdown",
   "id": "9f99c3a0-fa36-4b3b-8c76-73dc8a4ea421",
   "metadata": {},
   "source": [
    "# Testing the preprocessing we have so far"
   ]
  },
  {
   "cell_type": "code",
   "execution_count": 9,
   "id": "7780c73d-2402-49e2-bd88-b46f89d668fc",
   "metadata": {},
   "outputs": [],
   "source": [
    "def test_generate_char_dataset(stop=False, split_using_color=False, x=0):\n",
    "    count = 0\n",
    "    miscount = 0\n",
    "    for filename in sorted(os.listdir(train_dir)):\n",
    "        if filename.lower().endswith(('.png', '.jpg', '.jpeg', '.bmp')):\n",
    "            img_path = os.path.join(train_dir, filename)\n",
    "            img = cv2.imread(img_path, cv2.IMREAD_COLOR)\n",
    "            if img is None:\n",
    "                continue\n",
    "\n",
    "            label = filename.split('-')[0]\n",
    "            r = preprocess_image(img, resize_to=None, split_using_color=split_using_color)\n",
    "\n",
    "\n",
    "            if len(label) != len(r):\n",
    "                miscount += 1\n",
    "                if stop and miscount > x:\n",
    "                    print(label)\n",
    "                    print(count)\n",
    "                    plt.imshow(cv2.cvtColor(img, cv2.COLOR_BGR2RGB))  # Convert BGR to RGB for correct colors\n",
    "                    plt.axis('off')\n",
    "                    plt.title(\"Original Image\")\n",
    "                    plt.show()\n",
    "                    plt.figure(figsize=(15, 3))  # Adjust size as needed\n",
    "\n",
    "                    for i, img in enumerate(r):\n",
    "                        plt.subplot(1, len(r), i + 1)\n",
    "                        # If using OpenCV images (BGR), convert to RGB\n",
    "                        plt.imshow(cv2.cvtColor(img, cv2.COLOR_BGR2RGB))\n",
    "                        plt.axis('off')\n",
    "                        plt.title(f'Img {i}')\n",
    "\n",
    "                    plt.tight_layout()\n",
    "                    plt.show()\n",
    "                    break\n",
    "\n",
    "        count += 1\n",
    "        if count % 500 == 0:\n",
    "            print(miscount)\n",
    "            print(f\"Done with {count} files\")\n",
    "            \n",
    "\n",
    "    print(miscount)"
   ]
  },
  {
   "cell_type": "markdown",
   "id": "6d2c64ef-c0fd-48df-9a05-e7dc651b7ff8",
   "metadata": {},
   "source": [
    "# Try a hacky approach replace black lines with white pixel"
   ]
  },
  {
   "cell_type": "markdown",
   "id": "f76edbf6-3179-4973-ad89-a0b6a7cdc790",
   "metadata": {},
   "source": [
    "May come back to this to change how we get rid of the black lines but for now want focus on splitting the characters assuming we remove the noise well"
   ]
  },
  {
   "cell_type": "code",
   "execution_count": 10,
   "id": "4b57ae27-9f96-4a99-b3c6-d6bff29b1102",
   "metadata": {},
   "outputs": [],
   "source": [
    "def preprocess_image(img, resize_to=None, color=False, split_using_color=False, min_area=50, min_fill_ratio=0, max_color_diff=50):\n",
    "    color_cleaned = img.copy()\n",
    "    black = np.array([0, 0, 0])\n",
    "\n",
    "    # Create mask where all pixels are black\n",
    "    mask = np.all(img == black, axis=-1)\n",
    "\n",
    "    # Replace black pixels with white\n",
    "    color_cleaned[mask] = [255, 255, 255]\n",
    "    \n",
    "    gray = cv2.cvtColor(color_cleaned, cv2.COLOR_BGR2GRAY)\n",
    "\n",
    "    binary = cv2.adaptiveThreshold(\n",
    "        gray, 255,\n",
    "        cv2.ADAPTIVE_THRESH_MEAN_C,\n",
    "        cv2.THRESH_BINARY,\n",
    "        blockSize=15,\n",
    "        C=3\n",
    "    )\n",
    "    \n",
    "    binary_blur = cv2.GaussianBlur(binary, (3, 3), sigmaX=0)\n",
    "    \n",
    "    letters = get_letters(binary, binary_blur, color_cleaned, color=color, split_using_color=split_using_color, min_area=min_area, min_fill_ratio=min_fill_ratio, max_color_diff=max_color_diff)\n",
    "    \n",
    "    \n",
    "    if resize_to:\n",
    "        results = []\n",
    "        for letter in letters:\n",
    "            letter = cv2.resize(letter, resize_to)\n",
    "            results.append(letter)\n",
    "    \n",
    "        return results\n",
    "    else:\n",
    "        return letters"
   ]
  },
  {
   "cell_type": "code",
   "execution_count": 11,
   "id": "27643149-2bff-499d-9511-f2b63f608f45",
   "metadata": {},
   "outputs": [],
   "source": [
    "def temp(img, output_type, resize_to=None, color=False, split_using_color=False, min_area=50, min_fill_ratio=0, max_color_diff=50):\n",
    "    color_cleaned = img.copy()\n",
    "    black = np.array([0, 0, 0])\n",
    "\n",
    "    # Create mask where all pixels are black\n",
    "    mask = np.all(img == black, axis=-1)\n",
    "\n",
    "    # Replace black pixels with white\n",
    "    color_cleaned[mask] = [255, 255, 255]\n",
    "    \n",
    "    gray = cv2.cvtColor(color_cleaned, cv2.COLOR_BGR2GRAY)\n",
    "\n",
    "    binary = cv2.adaptiveThreshold(\n",
    "        gray, 255,\n",
    "        cv2.ADAPTIVE_THRESH_MEAN_C,\n",
    "        cv2.THRESH_BINARY,\n",
    "        blockSize=15,\n",
    "        C=3\n",
    "    )\n",
    "    \n",
    "    binary_blur = cv2.GaussianBlur(binary, (3, 3), sigmaX=0)\n",
    "    \n",
    "    if output_type == 0:\n",
    "        return binary_blur\n",
    "    elif output_type == 1:\n",
    "        return color_cleaned"
   ]
  },
  {
   "cell_type": "code",
   "execution_count": 12,
   "id": "62ceda8f-0b8c-4ded-a1b7-849e5d09cd65",
   "metadata": {},
   "outputs": [
    {
     "name": "stdout",
     "output_type": "stream",
     "text": [
      "57\n",
      "Done with 500 files\n",
      "114\n",
      "Done with 1000 files\n",
      "168\n",
      "Done with 1500 files\n",
      "239\n",
      "Done with 2000 files\n",
      "288\n",
      "Done with 2500 files\n",
      "339\n",
      "Done with 3000 files\n",
      "392\n",
      "Done with 3500 files\n",
      "437\n",
      "Done with 4000 files\n",
      "505\n",
      "Done with 4500 files\n",
      "585\n",
      "Done with 5000 files\n",
      "647\n",
      "Done with 5500 files\n",
      "696\n",
      "Done with 6000 files\n",
      "752\n",
      "Done with 6500 files\n",
      "818\n",
      "Done with 7000 files\n",
      "867\n",
      "Done with 7500 files\n",
      "918\n",
      "Done with 8000 files\n",
      "918\n"
     ]
    }
   ],
   "source": [
    "test_generate_char_dataset(False, True)"
   ]
  },
  {
   "cell_type": "code",
   "execution_count": 13,
   "id": "f4bdc5ea-db39-40f7-9d9f-75b9793c369f",
   "metadata": {},
   "outputs": [
    {
     "name": "stdout",
     "output_type": "stream",
     "text": [
      "64\n",
      "Done with 500 files\n",
      "126\n",
      "Done with 1000 files\n",
      "192\n",
      "Done with 1500 files\n",
      "267\n",
      "Done with 2000 files\n",
      "316\n",
      "Done with 2500 files\n",
      "377\n",
      "Done with 3000 files\n",
      "438\n",
      "Done with 3500 files\n",
      "496\n",
      "Done with 4000 files\n",
      "574\n",
      "Done with 4500 files\n",
      "652\n",
      "Done with 5000 files\n",
      "724\n",
      "Done with 5500 files\n",
      "781\n",
      "Done with 6000 files\n",
      "852\n",
      "Done with 6500 files\n",
      "922\n",
      "Done with 7000 files\n",
      "977\n",
      "Done with 7500 files\n",
      "1041\n",
      "Done with 8000 files\n",
      "1041\n"
     ]
    }
   ],
   "source": [
    "test_generate_char_dataset(False, False)"
   ]
  },
  {
   "cell_type": "markdown",
   "id": "ba3f218e-986e-4e81-8273-87190fcaf71d",
   "metadata": {},
   "source": [
    "Problem seems to be the findContours splitting. Try to fix that"
   ]
  },
  {
   "cell_type": "code",
   "execution_count": 14,
   "id": "f0470316-b7fd-4c62-bba7-e47544c818be",
   "metadata": {},
   "outputs": [
    {
     "name": "stdout",
     "output_type": "stream",
     "text": [
      "0hs60bw\n",
      "110\n"
     ]
    },
    {
     "data": {
      "image/png": "[encoded data removed]",
      "text/plain": [
       "<Figure size 640x480 with 1 Axes>"
      ]
     },
     "metadata": {},
     "output_type": "display_data"
    },
    {
     "data": {
      "image/png": "[encoded data removed]",
      "text/plain": [
       "<Figure size 1500x300 with 12 Axes>"
      ]
     },
     "metadata": {},
     "output_type": "display_data"
    },
    {
     "name": "stdout",
     "output_type": "stream",
     "text": [
      "10\n"
     ]
    }
   ],
   "source": [
    "test_generate_char_dataset(True, True, 9)"
   ]
  },
  {
   "cell_type": "code",
   "execution_count": 15,
   "id": "68e2b125-ff92-49aa-adb5-d83e140395c0",
   "metadata": {},
   "outputs": [],
   "source": [
    "img_path = \"train/0hs60bw-0.png\"\n",
    "img = cv2.imread(img_path, cv2.IMREAD_COLOR)"
   ]
  },
  {
   "cell_type": "code",
   "execution_count": 16,
   "id": "e0f74dcb-6982-4563-b930-7164bac2f9c3",
   "metadata": {},
   "outputs": [
    {
     "data": {
      "image/png": "[encoded data removed]",
      "text/plain": [
       "<Figure size 640x480 with 1 Axes>"
      ]
     },
     "metadata": {},
     "output_type": "display_data"
    }
   ],
   "source": [
    "plt.imshow(cv2.cvtColor(img, cv2.COLOR_BGR2RGB))  # Convert BGR to RGB for correct colors\n",
    "plt.axis('off')\n",
    "plt.title(\"Original Image\")\n",
    "plt.show()"
   ]
  },
  {
   "cell_type": "code",
   "execution_count": 17,
   "id": "eaf35c65-4a44-4cb7-a689-206359ccd7fe",
   "metadata": {},
   "outputs": [],
   "source": [
    "r = temp(img, 0, color=True)"
   ]
  },
  {
   "cell_type": "code",
   "execution_count": 18,
   "id": "2d2d141d-ec80-4900-851b-a1619faaa6aa",
   "metadata": {},
   "outputs": [
    {
     "data": {
      "image/png": "[encoded data removed]",
      "text/plain": [
       "<Figure size 640x480 with 1 Axes>"
      ]
     },
     "metadata": {},
     "output_type": "display_data"
    }
   ],
   "source": [
    "plt.imshow(cv2.cvtColor(r, cv2.COLOR_BGR2RGB))  # Convert BGR to RGB for correct colors\n",
    "plt.axis('off')\n",
    "plt.title(\"Original Image\")\n",
    "plt.show()"
   ]
  },
  {
   "cell_type": "code",
   "execution_count": 19,
   "id": "71feb770-5b8d-4935-b6b8-09757a319e4f",
   "metadata": {},
   "outputs": [],
   "source": [
    "r = preprocess_image(img, color=True)"
   ]
  },
  {
   "cell_type": "code",
   "execution_count": 20,
   "id": "0a63fd11-5cc1-4136-82f8-9ac48020d088",
   "metadata": {},
   "outputs": [
    {
     "data": {
      "image/png": "[encoded data removed]",
      "text/plain": [
       "<Figure size 1500x300 with 7 Axes>"
      ]
     },
     "metadata": {},
     "output_type": "display_data"
    }
   ],
   "source": [
    "plt.figure(figsize=(15, 3))  # Adjust size as needed\n",
    "\n",
    "for i, img in enumerate(r):\n",
    "    plt.subplot(1, len(r), i + 1)\n",
    "    # If using OpenCV images (BGR), convert to RGB\n",
    "    plt.imshow(cv2.cvtColor(img, cv2.COLOR_BGR2RGB))\n",
    "    plt.axis('off')\n",
    "    plt.title(f'Img {i}')\n",
    "\n",
    "plt.tight_layout()\n",
    "plt.show()"
   ]
  },
  {
   "cell_type": "code",
   "execution_count": null,
   "id": "412aace1-870c-48cc-a945-789ac2ff4b37",
   "metadata": {},
   "outputs": [],
   "source": []
  },
  {
   "cell_type": "markdown",
   "id": "350823ee-0ac1-40be-bff8-f448fec99a0c",
   "metadata": {},
   "source": [
    "# Creating more dataset"
   ]
  },
  {
   "cell_type": "code",
   "execution_count": 21,
   "id": "7a3f761d-120e-48ff-9edf-99211ddedb84",
   "metadata": {},
   "outputs": [],
   "source": [
    "def rotate_image(img, angle):\n",
    "    # Get image center and rotation matrix\n",
    "    (h, w) = img.shape[:2]\n",
    "    center = (w // 2, h // 2)\n",
    "    rot_matrix = cv2.getRotationMatrix2D(center, angle, 1.0)\n",
    "\n",
    "    # Calculate bounding box size to fit rotated image\n",
    "    cos = np.abs(rot_matrix[0, 0])\n",
    "    sin = np.abs(rot_matrix[0, 1])\n",
    "    new_w = int((h * sin) + (w * cos))\n",
    "    new_h = int((h * cos) + (w * sin))\n",
    "\n",
    "    # Adjust rotation matrix for translation\n",
    "    rot_matrix[0, 2] += (new_w / 2) - center[0]\n",
    "    rot_matrix[1, 2] += (new_h / 2) - center[1]\n",
    "\n",
    "    # Perform rotation with white background\n",
    "    if len(img.shape) == 2:\n",
    "        border_value = 255\n",
    "    else:\n",
    "        border_value = (255, 255, 255)\n",
    "\n",
    "    rotated = cv2.warpAffine(img, rot_matrix, (new_w, new_h), borderValue=border_value)\n",
    "\n",
    "    return rotated"
   ]
  },
  {
   "cell_type": "code",
   "execution_count": 22,
   "id": "42d3a95e-e3ae-44ed-a7e4-c79c1e9c8395",
   "metadata": {},
   "outputs": [],
   "source": [
    "train_letter_dir = 'train_letter'"
   ]
  },
  {
   "cell_type": "code",
   "execution_count": 23,
   "id": "d653dcd2-f2d4-4e98-a40e-211c560b58a5",
   "metadata": {},
   "outputs": [],
   "source": [
    "angles = [-30, -20, -10, 10, 20, 30]"
   ]
  },
  {
   "cell_type": "code",
   "execution_count": 24,
   "id": "01df1e14-cde0-4dfc-8838-10610530fd8c",
   "metadata": {},
   "outputs": [],
   "source": [
    "from collections import defaultdict\n",
    "filename_count = defaultdict(int)"
   ]
  },
  {
   "cell_type": "code",
   "execution_count": 25,
   "id": "418126e4-22e6-4b92-8b11-7f45083dc99e",
   "metadata": {},
   "outputs": [],
   "source": [
    "from PIL import Image\n",
    "import numpy as np\n",
    "import os\n",
    "\n",
    "def save_image_from_array(img_array, save_path):\n",
    "    if len(img_array.shape) == 3 and img_array.shape[2] == 3:\n",
    "        # Convert BGR (OpenCV) to RGB (PIL)\n",
    "        img_array = cv2.cvtColor(img_array, cv2.COLOR_BGR2RGB)\n",
    "    \n",
    "    img = Image.fromarray(img_array.astype(np.uint8))\n",
    "    os.makedirs(os.path.dirname(save_path), exist_ok=True)\n",
    "    img.save(save_path)"
   ]
  },
  {
   "cell_type": "code",
   "execution_count": 28,
   "id": "add5a4f1-29e0-475b-ba5e-7423ca97c7d0",
   "metadata": {},
   "outputs": [],
   "source": [
    "def generate_char_dataset(resize_to=None, color=False, split_using_color=False):\n",
    "    count = 0\n",
    "    miscount = 0\n",
    "    total = len(os.listdir(train_dir))\n",
    "    for filename in sorted(os.listdir(train_dir)):\n",
    "        if filename.lower().endswith(('.png', '.jpg', '.jpeg', '.bmp')):\n",
    "            img_path = os.path.join(train_dir, filename)\n",
    "            img = cv2.imread(img_path, cv2.IMREAD_COLOR)\n",
    "            if img is None:\n",
    "                continue\n",
    "\n",
    "            label = filename.split('-')[0]\n",
    "            chars = preprocess_image(img, color=color, split_using_color=split_using_color)\n",
    "\n",
    "\n",
    "            if len(label) != len(chars):\n",
    "                miscount += 1\n",
    "                continue\n",
    "\n",
    "            for i in range(min(len(label), len(chars))):\n",
    "                letter = label[i]\n",
    "                char = chars[i]\n",
    "                new_name = 'img-' + str(filename_count[letter]) + '.png'\n",
    "                filename_count[letter] += 1\n",
    "                \n",
    "                if resize_to:\n",
    "                    resized_char = cv2.resize(char, resize_to)\n",
    "                    save_image_from_array(resized_char, os.path.join(train_letter_dir, letter, new_name))\n",
    "                else:\n",
    "                    save_image_from_array(char, os.path.join(train_letter_dir, letter, new_name))\n",
    "                    \n",
    "                random_numbers = random.sample(range(len(angles)), 3)              \n",
    "                for no in random_numbers:\n",
    "                    new_char = rotate_image(char, angles[no])\n",
    "                    new_name ='img-' + str(filename_count[letter]) + '.png'\n",
    "                    filename_count[letter] += 1\n",
    "                    \n",
    "                    if resize_to:\n",
    "                        resized_new_char = cv2.resize(new_char, resize_to)\n",
    "                        save_image_from_array(resized_new_char, os.path.join(train_letter_dir, letter, new_name))\n",
    "                    else:\n",
    "                        save_image_from_array(new_char, os.path.join(train_letter_dir, letter, new_name))\n",
    "\n",
    "        count += 1\n",
    "        if count % 500 == 0:\n",
    "            print(f\"Done with {count} files\")\n",
    "\n",
    "    print(f\"{total - miscount} / {total} images have been used\")"
   ]
  },
  {
   "cell_type": "markdown",
   "id": "3aea9dc8-4199-4bdc-801b-c8dd01e510f9",
   "metadata": {},
   "source": [
    "# Use the script to get the dataset"
   ]
  },
  {
   "cell_type": "code",
   "execution_count": 27,
   "id": "b1c8963e-4a46-4a1b-a093-3bf4aa0aa807",
   "metadata": {},
   "outputs": [],
   "source": [
    "# generate_char_dataset()"
   ]
  }
 ],
 "metadata": {
  "kernelspec": {
   "display_name": "cs4243",
   "language": "python",
   "name": "cs4243"
  },
  "language_info": {
   "codemirror_mode": {
    "name": "ipython",
    "version": 3
   },
   "file_extension": ".py",
   "mimetype": "text/x-python",
   "name": "python",
   "nbconvert_exporter": "python",
   "pygments_lexer": "ipython3",
   "version": "3.11.11"
  }
 },
 "nbformat": 4,
 "nbformat_minor": 5
}
